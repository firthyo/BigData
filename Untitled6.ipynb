{
  "nbformat": 4,
  "nbformat_minor": 0,
  "metadata": {
    "colab": {
      "name": "สำเนาของ Untitled6.ipynb",
      "provenance": [],
      "collapsed_sections": [],
      "mount_file_id": "1-0z2_V-imnRZadkd7mLQpxiqR_dHQOup",
      "authorship_tag": "ABX9TyN8NMbr3ZYLTLUEFJaJoKjh",
      "include_colab_link": true
    },
    "kernelspec": {
      "name": "python3",
      "display_name": "Python 3"
    },
    "language_info": {
      "name": "python"
    }
  },
  "cells": [
    {
      "cell_type": "markdown",
      "metadata": {
        "id": "view-in-github",
        "colab_type": "text"
      },
      "source": [
        "<a href=\"https://colab.research.google.com/github/firthyo/BigData/blob/main/Untitled6.ipynb\" target=\"_parent\"><img src=\"https://colab.research.google.com/assets/colab-badge.svg\" alt=\"Open In Colab\"/></a>"
      ]
    },
    {
      "cell_type": "code",
      "execution_count": 14,
      "metadata": {
        "id": "_wbp4G_lZE4c"
      },
      "outputs": [],
      "source": [
        "import pandas as pd\n",
        "import numpy as np\n",
        "from sklearn.model_selection import train_test_split\n",
        "from sklearn.linear_model import LogisticRegression\n",
        "from sklearn.metrics import roc_curve\n",
        "from sklearn import metrics\n",
        "from matplotlib import pyplot"
      ]
    },
    {
      "cell_type": "code",
      "source": [
        "from google.colab import drive\n",
        "drive.mount('/content/drive')\n",
        "# my_list = df.columns.values.tolist()"
      ],
      "metadata": {
        "colab": {
          "base_uri": "https://localhost:8080/"
        },
        "id": "TO05MUs_cX6E",
        "outputId": "ec83273e-41ce-48bb-fb46-14d90567b3ba"
      },
      "execution_count": 15,
      "outputs": [
        {
          "output_type": "stream",
          "name": "stdout",
          "text": [
            "Drive already mounted at /content/drive; to attempt to forcibly remount, call drive.mount(\"/content/drive\", force_remount=True).\n"
          ]
        }
      ]
    },
    {
      "cell_type": "code",
      "source": [
        "\n",
        "\n",
        "dataSet=pd.read_csv('/content/coords.csv')\n",
        "dataSet2=pd.read_csv('/content/third_person.csv')\n",
        "dataSet3=pd.read_csv('/content/second_person.csv')\n",
        "frames = [dataSet, dataSet2, dataSet3]\n",
        "\n",
        "result = pd.concat(frames)\n",
        "\n",
        "\n",
        "# dataSet=pd.read_csv('/content/coords.csv')\n",
        "\n"
      ],
      "metadata": {
        "id": "9NuUtlU3c0xY"
      },
      "execution_count": 16,
      "outputs": []
    },
    {
      "cell_type": "code",
      "source": [
        "# dataSet['class']\n",
        "BinaryClass = dataSet['class'].replace(to_replace=['sitting', 'standing'], value=[0, 1])"
      ],
      "metadata": {
        "id": "axsQusC-gncM"
      },
      "execution_count": 17,
      "outputs": []
    },
    {
      "cell_type": "code",
      "source": [
        "my_list = list(result)\n",
        "print(my_list)"
      ],
      "metadata": {
        "colab": {
          "base_uri": "https://localhost:8080/"
        },
        "id": "i7_zjAtzfj8J",
        "outputId": "241fd74d-79d5-4c89-8b5c-5f5dda250864"
      },
      "execution_count": 18,
      "outputs": [
        {
          "output_type": "stream",
          "name": "stdout",
          "text": [
            "['class', 'x_nose', 'y_nose', 'z_nose', 'v_nose', 'x_left_eye_inner', 'y_left_eye_inner', 'z_left_eye_inner', 'v_left_eye_inner', 'x_left_eye', 'y_left_eye', 'z_left_eye', 'v_left_eye', 'x_left_eye_outer', 'y_left_eye_outer', 'z_left_eye_outer', 'v_left_eye_outer', 'x_right_eye', 'y_right_eye', 'z_right_eye', 'v_right_eye', 'x_right_eye.1', 'y_right_eye.1', 'z_right_eye.1', 'v_right_eye.1', 'x_right_outer', 'y_right_outer', 'z_right_outer', 'v_right_outer', 'x_left_ear', 'y_left_ear', 'z_left_ear', 'v_left_ear', 'x_righy_ear', 'y_righy_ear', 'z_righy_ear', 'v_righy_ear', 'x_mount_left', 'y_mount_left', 'z_mount_left', 'v_mount_left', 'x_mount_right', 'y_mount_right', 'z_mount_right', 'v_mount_right', 'x_left_shoulder', 'y_left_shoulder', 'z_left_shoulder', 'v_left_shoulder', 'x_right_shoulder', 'y_right_shoulder', 'z_right_shoulder', 'v_right_shoulder', 'x_left_elbow', 'y_left_elbow', 'z_left_elbow', 'v_left_elbow', 'x_right_elbow', 'y_right_elbow', 'z_right_elbow', 'v_right_elbow', 'x_left_wrist', 'y_left_wrist', 'z_left_wrist', 'v_left_wrist', 'x_right_wrist', 'y_right_wrist', 'z_right_wrist', 'v_right_wrist', 'x_left_pinky', 'y_left_pinky', 'z_left_pinky', 'v_left_pinky', 'x_right_pinky', 'y_right_pinky', 'z_right_pinky', 'v_right_pinky', 'x_left_index', 'y_left_index', 'z_left_index', 'v_left_index', 'x_right_index', 'y_right_index', 'z_right_index', 'v_right_index', 'x_left_thumb', 'y_left_thumb', 'z_left_thumb', 'v_left_thumb', 'x_right_thumb', 'y_right_thumb', 'z_right_thumb', 'v_right_thumb', 'x_left_hip', 'y_left_hip', 'z_left_hip', 'v_left_hip', 'x_right_hip', 'y_right_hip', 'z_right_hip', 'v_right_hip', 'x_left_knee', 'y_left_knee', 'z_left_knee', 'v_left_knee', 'x_right_knee', 'y_right_knee', 'z_right_knee', 'v_right_knee', 'x_left_angel', 'y_left_angel', 'z_left_angel', 'v_left_angel', 'x_right_angle', 'y_right_angle', 'z_right_angle', 'v_right_angle', 'x_left_heel', 'y_left_heel', 'z_left_heel', 'v_left_heel', 'x_right_heel', 'y_right_heel', 'z_right_heel', 'v_right_heel', 'x_left_foot_index', 'y_left_foot_index', 'z_left_foot_index', 'v_left_foot_index', 'x_right_foot_index', 'y_right_foot_index', 'z_right_foot_index', 'v_right_foot_index']\n"
          ]
        }
      ]
    },
    {
      "cell_type": "code",
      "source": [
        "BinaryClass\n",
        "\n"
      ],
      "metadata": {
        "colab": {
          "base_uri": "https://localhost:8080/"
        },
        "id": "goG0OQOdZFcG",
        "outputId": "40b4ba12-27c0-46c1-fbca-9688a4034963"
      },
      "execution_count": 19,
      "outputs": [
        {
          "output_type": "execute_result",
          "data": {
            "text/plain": [
              "0       0\n",
              "1       0\n",
              "2       0\n",
              "3       0\n",
              "4       0\n",
              "       ..\n",
              "1710    1\n",
              "1711    1\n",
              "1712    1\n",
              "1713    1\n",
              "1714    1\n",
              "Name: class, Length: 1715, dtype: int64"
            ]
          },
          "metadata": {},
          "execution_count": 19
        }
      ]
    },
    {
      "cell_type": "code",
      "source": [
        "# 'y_left_wrist', 'z_left_wrist', 'v_left_wrist', 'x_right_wrist', 'y_right_wrist', 'z_right_wrist', 'v_right_wrist', 'x_left_pinky', 'y_left_pinky', 'z_left_pinky', 'v_left_pinky', 'x_right_pinky', 'y_right_pinky', 'z_right_pinky', \n",
        "#           'v_right_pinky', 'x_left_index', 'y_left_index', 'z_left_index', 'v_left_index', 'x_right_index', 'y_right_index', 'z_right_index', 'v_right_index', 'x_left_thumb', 'y_left_thumb', 'z_left_thumb', 'v_left_thumb', 'x_right_thumb', 'y_right_thumb', 'z_right_thumb', 'v_right_thumb', \n",
        "#           'x_left_hip', 'y_left_hip', 'z_left_hip', 'v_left_hip', 'x_right_hip', 'y_right_hip', 'z_right_hip', 'v_right_hip', 'x_left_knee', 'y_left_knee', 'z_left_knee', 'v_left_knee', 'x_right_knee', 'y_right_knee', 'z_right_knee', 'v_right_knee', 'x_left_angel', 'y_left_angel', 'z_left_angel', \n",
        "#           'v_left_angel', 'x_right_angle', 'y_right_angle', 'z_right_angle', 'v_right_angle', 'x_left_heel', 'y_left_heel', 'z_left_heel', 'v_left_heel', 'x_right_heel', 'y_right_heel', 'z_right_heel', 'v_right_heel', 'x_left_foot_index', 'y_left_foot_index', 'z_left_foot_index', 'v_left_foot_index', \n",
        "#           'x_right_foot_index', 'y_right_foot_index', 'z_right_foot_index', 'v_right_foot_index'"
      ],
      "metadata": {
        "id": "1ZP2WsrHgXxu"
      },
      "execution_count": null,
      "outputs": []
    },
    {
      "cell_type": "code",
      "source": [
        "from numpy import sqrt\n",
        "from numpy import argmax\n",
        "#define the predictor variables and the response variable\n",
        "X = dataSet[['x_nose', 'y_nose', 'z_nose', 'v_nose', 'x_left_eye_inner', 'y_left_eye_inner', 'z_left_eye_inner', 'v_left_eye_inner', 'x_left_eye', 'y_left_eye', 'z_left_eye', 'v_left_eye', 'x_left_eye_outer', 'y_left_eye_outer', 'z_left_eye_outer', \n",
        "          'v_left_eye_outer', 'x_right_eye', 'y_right_eye', 'z_right_eye', 'v_right_eye', 'x_right_eye.1', 'y_right_eye.1', 'z_right_eye.1', 'v_right_eye.1', 'x_right_outer', 'y_right_outer', 'z_right_outer', 'v_right_outer', \n",
        "          'x_left_ear', 'y_left_ear', 'z_left_ear', 'v_left_ear', 'x_righy_ear', 'y_righy_ear', 'z_righy_ear', 'v_righy_ear', 'x_mount_left', 'y_mount_left', 'z_mount_left', 'v_mount_left', 'x_mount_right', 'y_mount_right', 'z_mount_right', \n",
        "          'v_mount_right', 'x_left_shoulder', 'y_left_shoulder', 'z_left_shoulder', 'v_left_shoulder', 'x_right_shoulder', 'y_right_shoulder', 'z_right_shoulder', 'v_right_shoulder', 'x_left_elbow', 'y_left_elbow', 'z_left_elbow', 'v_left_elbow', 'x_right_elbow', 'y_right_elbow', \n",
        "          'z_right_elbow', 'v_right_elbow', 'x_left_wrist', ]]\n",
        "y = BinaryClass\n",
        "\n",
        "#split the dataset into training (70%) and testing (30%) sets\n",
        "X_train,X_test,y_train,y_test = train_test_split(X,y,test_size=0.3,random_state=0) \n",
        "\n",
        "#instantiate the model\n",
        "log_regression = LogisticRegression()\n",
        "\n",
        "#fit the model using the training data\n",
        "log_regression.fit(X_train,y_train)\n",
        "\n",
        "#define metrics\n",
        "y_pred_proba = log_regression.predict_proba(X_test)[::,1]\n",
        "# fpr, tpr, _ = metrics.roc_curve(y_test,  y_pred_proba)\n",
        "\n",
        "fpr, tpr, thresholds = metrics.roc_curve(y_test,  y_pred_proba)\n",
        "\n",
        "\n",
        "\n",
        "# calculate the g-mean for each threshold\n",
        "gmeans = sqrt(tpr * (1-fpr))\n",
        "# locate the index of the largest g-mean\n",
        "ix = argmax(gmeans)\n",
        "print('Best Threshold=%f, G-Mean=%.3f' % (thresholds[ix], gmeans[ix]))\n",
        "# plot the roc curve for the model\n",
        "pyplot.plot([0,1], [0,1], linestyle='--', label='No Skill')\n",
        "pyplot.plot(fpr, tpr, marker='.', label='Logistic')\n",
        "pyplot.scatter(fpr[ix], tpr[ix], marker='o', color='black', label='Best')\n",
        "# axis labels\n",
        "pyplot.xlabel('False Positive Rate')\n",
        "pyplot.ylabel('True Positive Rate')\n",
        "pyplot.legend()\n",
        "# show the plot\n",
        "pyplot.show()"
      ],
      "metadata": {
        "colab": {
          "base_uri": "https://localhost:8080/",
          "height": 297
        },
        "id": "nWgIXkhdZJ-7",
        "outputId": "043d898d-fab5-4933-f1c4-05086578ff96"
      },
      "execution_count": 20,
      "outputs": [
        {
          "output_type": "stream",
          "name": "stdout",
          "text": [
            "Best Threshold=0.890482, G-Mean=0.955\n"
          ]
        },
        {
          "output_type": "display_data",
          "data": {
            "text/plain": [
              "<Figure size 432x288 with 1 Axes>"
            ],
            "image/png": "[encoded data removed]"
          },
          "metadata": {
            "needs_background": "light"
          }
        }
      ]
    },
    {
      "cell_type": "code",
      "source": [
        "from numpy import sqrt\n",
        "from numpy import argmax\n",
        "#define the predictor variables and the response variable\n",
        "X = dataSet[['x_nose', 'y_nose', 'v_nose', 'x_left_eye_inner', 'y_left_eye_inner',\n",
        "             'v_left_eye_inner', 'x_left_eye', 'y_left_eye', 'v_left_eye', \n",
        "             'x_left_eye_outer', 'y_left_eye_outer',  'v_left_eye_outer', \n",
        "             'x_right_eye', 'y_right_eye', 'v_right_eye', 'x_right_eye.1', \n",
        "             'y_right_eye.1', 'v_right_eye.1', 'x_right_outer', 'y_right_outer', \n",
        "             'v_right_outer', 'x_left_ear', 'y_left_ear',  'v_left_ear', 'x_righy_ear',\n",
        "             'y_righy_ear', 'v_righy_ear', 'x_mount_left', 'y_mount_left', 'v_mount_left', \n",
        "             'x_mount_right', 'y_mount_right', 'v_mount_right', 'x_left_shoulder', 'y_left_shoulder',\n",
        "             'v_left_shoulder', 'x_right_shoulder', 'y_right_shoulder', 'v_right_shoulder', 'x_left_elbow', \n",
        "             'y_left_elbow',  'v_left_elbow', 'x_right_elbow', 'y_right_elbow', 'v_right_elbow']]\n",
        "y = BinaryClass\n",
        "\n",
        "#split the dataset into training (70%) and testing (30%) sets\n",
        "X_train,X_test,y_train,y_test = train_test_split(X,y,test_size=0.3,random_state=0) \n",
        "\n",
        "#instantiate the model\n",
        "log_regression = LogisticRegression()\n",
        "\n",
        "#fit the model using the training data\n",
        "log_regression.fit(X_train,y_train)\n",
        "\n",
        "#define metrics\n",
        "y_pred_proba = log_regression.predict_proba(X_test)[::,1]\n",
        "# fpr, tpr, _ = metrics.roc_curve(y_test,  y_pred_proba)\n",
        "\n",
        "fpr, tpr, thresholds = metrics.roc_curve(y_test,  y_pred_proba)\n",
        "\n",
        "\n",
        "\n",
        "# calculate the g-mean for each threshold\n",
        "gmeans = sqrt(tpr * (1-fpr))\n",
        "# locate the index of the largest g-mean\n",
        "ix = argmax(gmeans)\n",
        "print('Best Threshold=%f, G-Mean=%.3f' % (thresholds[ix], gmeans[ix]))\n",
        "# plot the roc curve for the model\n",
        "pyplot.plot([0,1], [0,1], linestyle='--', label='No Skill')\n",
        "pyplot.plot(fpr, tpr, marker='.', label='Logistic')\n",
        "pyplot.scatter(fpr[ix], tpr[ix], marker='o', color='black', label='Best')\n",
        "# axis labels\n",
        "pyplot.xlabel('False Positive Rate')\n",
        "pyplot.ylabel('True Positive Rate')\n",
        "pyplot.legend()\n",
        "# show the plot\n",
        "pyplot.show()"
      ],
      "metadata": {
        "id": "Lk68TpspihN1",
        "colab": {
          "base_uri": "https://localhost:8080/",
          "height": 297
        },
        "outputId": "f5322d86-28f7-4a23-93c3-c0de1b633c82"
      },
      "execution_count": 22,
      "outputs": [
        {
          "output_type": "stream",
          "name": "stdout",
          "text": [
            "Best Threshold=0.911381, G-Mean=0.955\n"
          ]
        },
        {
          "output_type": "display_data",
          "data": {
            "text/plain": [
              "<Figure size 432x288 with 1 Axes>"
            ],
            "image/png": "[encoded data removed]"
          },
          "metadata": {
            "needs_background": "light"
          }
        }
      ]
    },
    {
      "cell_type": "code",
      "source": [
        ""
      ],
      "metadata": {
        "id": "46ziDH1gt39Y"
      },
      "execution_count": null,
      "outputs": []
    }
  ]
}